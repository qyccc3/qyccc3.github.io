{
 "cells": [
  {
   "cell_type": "code",
   "execution_count": 12,
   "id": "2c2d3583",
   "metadata": {},
   "outputs": [],
   "source": [
    "import numpy as np\n",
    "import os"
   ]
  },
  {
   "cell_type": "code",
   "execution_count": 3,
   "id": "5c84609d",
   "metadata": {},
   "outputs": [],
   "source": [
    "images = os.listdir()"
   ]
  },
  {
   "cell_type": "code",
   "execution_count": 15,
   "id": "7f8300c2",
   "metadata": {},
   "outputs": [],
   "source": [
    "unwanted = ['.DS_Store', '.ipynb_checkpoints', 'Untitled.ipynb']"
   ]
  },
  {
   "cell_type": "code",
   "execution_count": 16,
   "id": "2643adbd",
   "metadata": {},
   "outputs": [],
   "source": [
    "new_images = np.setdiff1d(images, unwanted)\n",
    "for x in range(len(new_images)):\n",
    "    name = str(x) + \".jpeg\"\n",
    "    os.rename(list(new_images)[x], name)"
   ]
  }
 ],
 "metadata": {
  "kernelspec": {
   "display_name": "Python 3 (ipykernel)",
   "language": "python",
   "name": "python3"
  },
  "language_info": {
   "codemirror_mode": {
    "name": "ipython",
    "version": 3
   },
   "file_extension": ".py",
   "mimetype": "text/x-python",
   "name": "python",
   "nbconvert_exporter": "python",
   "pygments_lexer": "ipython3",
   "version": "3.9.10"
  }
 },
 "nbformat": 4,
 "nbformat_minor": 5
}
